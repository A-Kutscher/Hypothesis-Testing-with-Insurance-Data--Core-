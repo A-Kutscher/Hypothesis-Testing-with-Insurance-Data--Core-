{
 "cells": [
  {
   "cell_type": "markdown",
   "id": "2ffae2c6-4917-4455-8c1e-8f22c55fdd78",
   "metadata": {},
   "source": [
    "# Hypothesis Testing with Insurance Data (Core)\r",
    "- Amber Kutscher\n",
    "- Data Enrichment\n"
   ]
  },
  {
   "cell_type": "code",
   "execution_count": 1,
   "id": "5d46dd01-ce04-49b5-9277-d66ed2fab53c",
   "metadata": {},
   "outputs": [],
   "source": [
    "# Imports\n",
    "import numpy as np\n",
    "import pandas as pd\n",
    "import matplotlib.pyplot as plt\n",
    "import seaborn as sns\n",
    "import scipy.stats as stats\n",
    "from scipy.stats import levene, kruskal"
   ]
  },
  {
   "cell_type": "code",
   "execution_count": 2,
   "id": "57b12741-e4d7-4a02-9e64-0d40ed1d480f",
   "metadata": {},
   "outputs": [
    {
     "data": {
      "text/html": [
       "<div>\n",
       "<style scoped>\n",
       "    .dataframe tbody tr th:only-of-type {\n",
       "        vertical-align: middle;\n",
       "    }\n",
       "\n",
       "    .dataframe tbody tr th {\n",
       "        vertical-align: top;\n",
       "    }\n",
       "\n",
       "    .dataframe thead th {\n",
       "        text-align: right;\n",
       "    }\n",
       "</style>\n",
       "<table border=\"1\" class=\"dataframe\">\n",
       "  <thead>\n",
       "    <tr style=\"text-align: right;\">\n",
       "      <th></th>\n",
       "      <th>age</th>\n",
       "      <th>sex</th>\n",
       "      <th>bmi</th>\n",
       "      <th>children</th>\n",
       "      <th>smoker</th>\n",
       "      <th>region</th>\n",
       "      <th>charges</th>\n",
       "    </tr>\n",
       "  </thead>\n",
       "  <tbody>\n",
       "    <tr>\n",
       "      <th>0</th>\n",
       "      <td>19</td>\n",
       "      <td>female</td>\n",
       "      <td>27.900</td>\n",
       "      <td>0</td>\n",
       "      <td>yes</td>\n",
       "      <td>southwest</td>\n",
       "      <td>16884.92400</td>\n",
       "    </tr>\n",
       "    <tr>\n",
       "      <th>1</th>\n",
       "      <td>18</td>\n",
       "      <td>male</td>\n",
       "      <td>33.770</td>\n",
       "      <td>1</td>\n",
       "      <td>no</td>\n",
       "      <td>southeast</td>\n",
       "      <td>1725.55230</td>\n",
       "    </tr>\n",
       "    <tr>\n",
       "      <th>2</th>\n",
       "      <td>28</td>\n",
       "      <td>male</td>\n",
       "      <td>33.000</td>\n",
       "      <td>3</td>\n",
       "      <td>no</td>\n",
       "      <td>southeast</td>\n",
       "      <td>4449.46200</td>\n",
       "    </tr>\n",
       "    <tr>\n",
       "      <th>3</th>\n",
       "      <td>33</td>\n",
       "      <td>male</td>\n",
       "      <td>22.705</td>\n",
       "      <td>0</td>\n",
       "      <td>no</td>\n",
       "      <td>northwest</td>\n",
       "      <td>21984.47061</td>\n",
       "    </tr>\n",
       "    <tr>\n",
       "      <th>4</th>\n",
       "      <td>32</td>\n",
       "      <td>male</td>\n",
       "      <td>28.880</td>\n",
       "      <td>0</td>\n",
       "      <td>no</td>\n",
       "      <td>northwest</td>\n",
       "      <td>3866.85520</td>\n",
       "    </tr>\n",
       "  </tbody>\n",
       "</table>\n",
       "</div>"
      ],
      "text/plain": [
       "   age     sex     bmi  children smoker     region      charges\n",
       "0   19  female  27.900         0    yes  southwest  16884.92400\n",
       "1   18    male  33.770         1     no  southeast   1725.55230\n",
       "2   28    male  33.000         3     no  southeast   4449.46200\n",
       "3   33    male  22.705         0     no  northwest  21984.47061\n",
       "4   32    male  28.880         0     no  northwest   3866.85520"
      ]
     },
     "execution_count": 2,
     "metadata": {},
     "output_type": "execute_result"
    }
   ],
   "source": [
    "# Read in the data\n",
    "url = 'https://docs.google.com/spreadsheets/d/e/2PACX-1vQBN8DPW2rdiRrY34eEM53HAzakNGSRrw4ogI-j8HyCUrbqTB_z4CeIn2IvjLF-w_6sOe5pIlypJGAA/pub?output=csv'\n",
    "df = pd.read_csv(url)\n",
    "df.head()"
   ]
  },
  {
   "cell_type": "code",
   "execution_count": 3,
   "id": "21c5f030-9adc-4b45-9fda-1e5b441e1309",
   "metadata": {},
   "outputs": [
    {
     "data": {
      "text/plain": [
       "age  sex     bmi     children  smoker  region     charges    \n",
       "19   male    30.590  0         no      northwest  1639.56310     2\n",
       "47   male    29.830  3         no      northwest  9620.33070     1\n",
       "48   female  25.850  3         yes     southeast  24180.93350    1\n",
       "             22.800  0         no      southwest  8269.04400     1\n",
       "47   male    47.520  1         no      southeast  8083.91980     1\n",
       "                                                                ..\n",
       "31   female  25.740  0         no      southeast  3756.62160     1\n",
       "             23.600  2         no      southwest  4931.64700     1\n",
       "             21.755  0         no      northwest  4134.08245     1\n",
       "30   male    44.220  2         no      southeast  4266.16580     1\n",
       "64   male    40.480  0         no      southeast  13831.11520    1\n",
       "Length: 1337, dtype: int64"
      ]
     },
     "execution_count": 3,
     "metadata": {},
     "output_type": "execute_result"
    }
   ],
   "source": [
    "# Check value counts to get the length of the dataframe\n",
    "df.value_counts()"
   ]
  },
  {
   "cell_type": "markdown",
   "id": "abc808e9-aaa4-466a-9fcd-00768c116413",
   "metadata": {},
   "source": [
    "## Q1. Do smokers have higher insurance charges than non-smokers?\n"
   ]
  },
  {
   "cell_type": "markdown",
   "id": "6b81330a-516a-405a-9b9a-3a84e91c062d",
   "metadata": {},
   "source": [
    "- Null Hypothesis: There is no significant difference between the insurance charges of smokers and non-smokers.\n",
    "- Alternative Hypothesis: There is a significant difference between the insurance charges of smokers and non-smokers."
   ]
  },
  {
   "cell_type": "code",
   "execution_count": 4,
   "id": "26009413-3774-4669-b0f3-e874b1796bab",
   "metadata": {},
   "outputs": [],
   "source": [
    "# Create sample data for testing (there are 1338 rows in the dataframe)\n",
    "sample = df.sample(n=1338, random_state=42)\n",
    "smoker_df = sample.loc[sample['smoker'] == 'yes'].copy()\n",
    "non_smoker_df = sample.loc[sample['smoker'] == 'no'].copy()"
   ]
  },
  {
   "cell_type": "code",
   "execution_count": 5,
   "id": "d77f2493-8a25-4e6c-91c6-241509f3a261",
   "metadata": {},
   "outputs": [
    {
     "name": "stdout",
     "output_type": "stream",
     "text": [
      "For smokers (n=274): Mean=32050.23\n",
      "For non-smokers (n=1064): Mean=8434.27\n"
     ]
    }
   ],
   "source": [
    "# Define our feature of interest (charges) and get the mean of each group\n",
    "smoker_charges = smoker_df['charges']\n",
    "non_smoker_charges = non_smoker_df['charges']\n",
    "print(f\"For smokers (n={len(smoker_charges)}): Mean={np.mean(smoker_charges):.2f}\")\n",
    "print(f\"For non-smokers (n={len(non_smoker_charges)}): Mean={np.mean(non_smoker_charges):.2f}\")"
   ]
  },
  {
   "cell_type": "markdown",
   "id": "16f136d4-bda3-4679-b482-12dbe0e4cc55",
   "metadata": {},
   "source": [
    "### Testing for Outliers"
   ]
  },
  {
   "cell_type": "code",
   "execution_count": 6,
   "id": "ccf1fb61-3a46-4b3f-8eca-606dae649888",
   "metadata": {},
   "outputs": [
    {
     "data": {
      "text/plain": [
       "0"
      ]
     },
     "execution_count": 6,
     "metadata": {},
     "output_type": "execute_result"
    }
   ],
   "source": [
    "# Check for ourliers with smoker status\n",
    "zscores_s = stats.zscore(smoker_charges)\n",
    "outliers_s = abs(zscores_s)>3\n",
    "np.sum(outliers_s)"
   ]
  },
  {
   "cell_type": "code",
   "execution_count": 7,
   "id": "6f2d700e-d000-48f8-afc7-d6e2384c9876",
   "metadata": {},
   "outputs": [
    {
     "data": {
      "text/plain": [
       "24"
      ]
     },
     "execution_count": 7,
     "metadata": {},
     "output_type": "execute_result"
    }
   ],
   "source": [
    "# Check for outliers with non-smoker status\n",
    "zscores_ns = stats.zscore(non_smoker_charges)\n",
    "outliers_ns = abs(zscores_ns)>3\n",
    "np.sum(outliers_ns)"
   ]
  },
  {
   "cell_type": "markdown",
   "id": "a8360168-4177-4757-ae31-9a4853e6d02a",
   "metadata": {},
   "source": [
    "- There are no outliers in the smoker group, however there are 24 outliers in the non-smoker group. Therefore, we need to remove the outliers from the dataframe."
   ]
  },
  {
   "cell_type": "code",
   "execution_count": 8,
   "id": "811eae14-30e5-4853-9559-7c4f81f139cc",
   "metadata": {},
   "outputs": [],
   "source": [
    "# Remove outlier for no strength group\n",
    "non_smoker_charges = non_smoker_charges[(np.abs(stats.zscore(non_smoker_charges)) < 3)]"
   ]
  },
  {
   "cell_type": "markdown",
   "id": "4fd9bd1c-7c2d-4e10-b07e-757a1233bcfc",
   "metadata": {},
   "source": [
    "### Testing Each Group for Normality"
   ]
  },
  {
   "cell_type": "code",
   "execution_count": 10,
   "id": "7fefb0ab-964f-49b4-b77a-833a3aaa012b",
   "metadata": {},
   "outputs": [
    {
     "data": {
      "text/plain": [
       "NormaltestResult(statistic=61.03941356533816, pvalue=5.564930630036463e-14)"
      ]
     },
     "execution_count": 10,
     "metadata": {},
     "output_type": "execute_result"
    }
   ],
   "source": [
    "# Normal test smokers\n",
    "result_smoker = stats.normaltest(smoker_charges)\n",
    "result_smoker"
   ]
  },
  {
   "cell_type": "code",
   "execution_count": 11,
   "id": "a11e2647-b53b-40fb-84ff-25d266c623b5",
   "metadata": {},
   "outputs": [
    {
     "data": {
      "text/plain": [
       "NormaltestResult(statistic=163.803670477892, pvalue=2.6945416315543585e-36)"
      ]
     },
     "execution_count": 11,
     "metadata": {},
     "output_type": "execute_result"
    }
   ],
   "source": [
    "# Normal test non-smokers\n",
    "result_non_smoker = stats.normaltest(non_smoker_charges)\n",
    "result_non_smoker"
   ]
  },
  {
   "cell_type": "markdown",
   "id": "beed2681-18a9-4684-8edb-19b61fb7f4c2",
   "metadata": {},
   "source": [
    "- For both the smoker and non-smoker groups, the p-value is less than 0.05, so we can assume these are NOT normally distributed."
   ]
  },
  {
   "cell_type": "markdown",
   "id": "c5702f4e-ada2-479e-9570-687b319f1349",
   "metadata": {},
   "source": [
    "### Testing for Equal Variance"
   ]
  },
  {
   "cell_type": "code",
   "execution_count": 12,
   "id": "4156838f-7953-4655-8586-607d8e88cf69",
   "metadata": {},
   "outputs": [
    {
     "data": {
      "text/plain": [
       "LeveneResult(statistic=520.7468821724297, pvalue=2.4247238784347824e-97)"
      ]
     },
     "execution_count": 12,
     "metadata": {},
     "output_type": "execute_result"
    }
   ],
   "source": [
    "# Calculate overall results with levene\n",
    "result = stats.levene(smoker_charges, non_smoker_charges)\n",
    "result"
   ]
  },
  {
   "cell_type": "markdown",
   "id": "39eb0082-167f-478d-9afc-57328238a736",
   "metadata": {},
   "source": [
    "- Since our p-value was less than .05, we reject the null hypothesis that the samples come from populations with equal variances. Therefore, we would need to include \"equal_var = False\" when we perform our t-test."
   ]
  },
  {
   "cell_type": "markdown",
   "id": "6264f823-2b6d-45fe-a82b-0c572f073e10",
   "metadata": {},
   "source": [
    "### Perform and Evaluate T-Test"
   ]
  },
  {
   "cell_type": "code",
   "execution_count": 13,
   "id": "6e11b8c9-7d8a-4891-a631-d7d147eff983",
   "metadata": {},
   "outputs": [
    {
     "data": {
      "text/plain": [
       "Ttest_indResult(statistic=33.732305987092516, pvalue=2.575322662587431e-104)"
      ]
     },
     "execution_count": 13,
     "metadata": {},
     "output_type": "execute_result"
    }
   ],
   "source": [
    "# Final t-test, after confirming we meet the assumptions\n",
    "result = stats.ttest_ind(smoker_charges, non_smoker_charges, equal_var=False)\n",
    "result"
   ]
  },
  {
   "cell_type": "code",
   "execution_count": 14,
   "id": "8584d3da-15fa-49cb-a2a6-fb44c11f9154",
   "metadata": {},
   "outputs": [
    {
     "name": "stdout",
     "output_type": "stream",
     "text": [
      "p-value=0.0000000000\n",
      "Significant: True\n"
     ]
    }
   ],
   "source": [
    "# Is our result significant?\n",
    "print(f\"p-value={result.pvalue:.10f}\")\n",
    "print(f\"Significant: {result.pvalue <.05}\")"
   ]
  },
  {
   "cell_type": "markdown",
   "id": "0bd93713-3d9d-41e8-8ab4-9f7b8fd43244",
   "metadata": {},
   "source": [
    "- Based on our t-test, we have a significant result. This indicates that there IS a difference between smoker and non-smoker insurances charges."
   ]
  },
  {
   "cell_type": "code",
   "execution_count": 15,
   "id": "1488eb3a-47a5-4036-b007-6be1f0257bd9",
   "metadata": {},
   "outputs": [
    {
     "data": {
      "image/png": "[encoded data removed]",
      "text/plain": [
       "<Figure size 800x600 with 1 Axes>"
      ]
     },
     "metadata": {},
     "output_type": "display_data"
    }
   ],
   "source": [
    "# Visualize the data\n",
    "plt.figure(figsize=(8, 6))\n",
    "sns.histplot(data=sample, x='charges', hue='smoker', kde=True)\n",
    "plt.xlabel('Insurance Charges')\n",
    "plt.ylabel('Density')\n",
    "plt.title('Distribution of Insurance Charges by Smoking Status')\n",
    "plt.show()"
   ]
  },
  {
   "cell_type": "markdown",
   "id": "b8f17f7f-6f20-439b-ba19-4122be2f6e56",
   "metadata": {},
   "source": [
    "### Interpret your p-value and reject or fail to reject your null hypothesis.\n",
    "- Since our p-value is less than 0.05, I reject the null hypothesis that there is no significant difference between the insurance charges of smokers and non-smokers. This indicates that we accept the alternative hypothesis and conclude that there is a significant difference between insurance charges of smokers vs. non-smokers.\r\n"
   ]
  },
  {
   "cell_type": "markdown",
   "id": "6dbc2745-eac1-4ac0-bedc-7d5c1a9a5fed",
   "metadata": {},
   "source": [
    "## Q2. Are men more likely to smoke than women?\r\n"
   ]
  },
  {
   "cell_type": "markdown",
   "id": "bca6a1c8-dd38-4669-b44b-55c62f7cd23a",
   "metadata": {},
   "source": [
    "- Null Hypothesis: There is no significant difference showing that men are more likely to smoke than women.\n",
    "- Alternative Hypothesis: There is a significant difference showing that men are more likely to smoke than women."
   ]
  },
  {
   "cell_type": "code",
   "execution_count": 16,
   "id": "e87f6612-e2ef-4edf-9a2a-40381d0be466",
   "metadata": {},
   "outputs": [
    {
     "data": {
      "image/png": "[encoded data removed]",
      "text/plain": [
       "<Figure size 640x480 with 1 Axes>"
      ]
     },
     "metadata": {},
     "output_type": "display_data"
    }
   ],
   "source": [
    "# Start by visualizing the data\n",
    "ax = sns.countplot(data=df, x='sex', hue='smoker')\n",
    "ax.set_title(\"Number of Smokers by Sex\");"
   ]
  },
  {
   "cell_type": "markdown",
   "id": "8b1f26a4-2dde-4c7a-8a41-29c995216f84",
   "metadata": {},
   "source": [
    "### Getting the Contingency Table"
   ]
  },
  {
   "cell_type": "code",
   "execution_count": 17,
   "id": "81e82936-4fed-43bf-9bc9-f4004b57d681",
   "metadata": {},
   "outputs": [
    {
     "data": {
      "text/html": [
       "<div>\n",
       "<style scoped>\n",
       "    .dataframe tbody tr th:only-of-type {\n",
       "        vertical-align: middle;\n",
       "    }\n",
       "\n",
       "    .dataframe tbody tr th {\n",
       "        vertical-align: top;\n",
       "    }\n",
       "\n",
       "    .dataframe thead th {\n",
       "        text-align: right;\n",
       "    }\n",
       "</style>\n",
       "<table border=\"1\" class=\"dataframe\">\n",
       "  <thead>\n",
       "    <tr style=\"text-align: right;\">\n",
       "      <th>smoker</th>\n",
       "      <th>no</th>\n",
       "      <th>yes</th>\n",
       "    </tr>\n",
       "    <tr>\n",
       "      <th>sex</th>\n",
       "      <th></th>\n",
       "      <th></th>\n",
       "    </tr>\n",
       "  </thead>\n",
       "  <tbody>\n",
       "    <tr>\n",
       "      <th>female</th>\n",
       "      <td>547</td>\n",
       "      <td>115</td>\n",
       "    </tr>\n",
       "    <tr>\n",
       "      <th>male</th>\n",
       "      <td>517</td>\n",
       "      <td>159</td>\n",
       "    </tr>\n",
       "  </tbody>\n",
       "</table>\n",
       "</div>"
      ],
      "text/plain": [
       "smoker   no  yes\n",
       "sex             \n",
       "female  547  115\n",
       "male    517  159"
      ]
     },
     "execution_count": 17,
     "metadata": {},
     "output_type": "execute_result"
    }
   ],
   "source": [
    "# Calculate the contingency table with pd.cross-tab\n",
    "table = pd.crosstab(df['sex'], df['smoker'])\n",
    "table"
   ]
  },
  {
   "cell_type": "code",
   "execution_count": 18,
   "id": "25fef0f1-46e0-4bbc-a683-f7074dfe9abd",
   "metadata": {},
   "outputs": [],
   "source": [
    "# Using Chi-Square test, run the test and save the output\n",
    "result = stats.chi2_contingency(table)\n",
    "chi2, p, deg_free, expected_vals = result"
   ]
  },
  {
   "cell_type": "code",
   "execution_count": 19,
   "id": "148a2133-d155-4d07-b364-7dc4bd2f9658",
   "metadata": {},
   "outputs": [
    {
     "name": "stdout",
     "output_type": "stream",
     "text": [
      "0.006548143503580696\n"
     ]
    },
    {
     "data": {
      "text/plain": [
       "True"
      ]
     },
     "execution_count": 19,
     "metadata": {},
     "output_type": "execute_result"
    }
   ],
   "source": [
    "# What was our p-value?\n",
    "print(p)\n",
    "p<.05"
   ]
  },
  {
   "cell_type": "markdown",
   "id": "61b80a7f-35a5-414d-9058-97f98a95a7cd",
   "metadata": {},
   "source": [
    "- The p-value is much less than 0.05, so we have a significant result."
   ]
  },
  {
   "cell_type": "markdown",
   "id": "86cef54c-6097-4a30-a5ee-5041ba6c3bae",
   "metadata": {},
   "source": [
    "### Interpret your p-value and reject or fail to reject your null hypothesis.\n",
    "- Since our p-value is less than 0.05, I reject the null hypothesis that there is no significant difference showing that men are more likely to smoke than women. This indicates that we accept the alternative hypothesis and conclude that men are more likely to smoke than women."
   ]
  },
  {
   "cell_type": "markdown",
   "id": "9e2097fe-cb5f-4cbf-9ee7-29aca7c6cc03",
   "metadata": {},
   "source": [
    "## Q3. Do different regions have different charges, on average?\r\n",
    "\r\n"
   ]
  },
  {
   "cell_type": "markdown",
   "id": "2a6fe5c7-7c61-46fa-83b4-21afda3426b2",
   "metadata": {},
   "source": [
    "- Null Hypothesis: There is no significant difference showing that the region affects how much someone pays for insurance.\n",
    "- Alternative Hypothesis: There is a significant difference showing that the region affects how much someone pays for insurance."
   ]
  },
  {
   "cell_type": "code",
   "execution_count": 20,
   "id": "f254f9fc-44a2-43ec-b061-8bef65373891",
   "metadata": {},
   "outputs": [
    {
     "data": {
      "image/png": "[encoded data removed]",
      "text/plain": [
       "<Figure size 640x480 with 1 Axes>"
      ]
     },
     "metadata": {},
     "output_type": "display_data"
    }
   ],
   "source": [
    "# Start by visualizing the data\n",
    "sns.barplot(data=df, x='region', y='charges');"
   ]
  },
  {
   "cell_type": "code",
   "execution_count": 21,
   "id": "00fea9e3-6972-4854-9b14-e125c3a3ec54",
   "metadata": {},
   "outputs": [
    {
     "data": {
      "text/plain": [
       "dict_keys(['southwest', 'southeast', 'northwest', 'northeast'])"
      ]
     },
     "execution_count": 21,
     "metadata": {},
     "output_type": "execute_result"
    }
   ],
   "source": [
    "# Create groups dictionary\n",
    "groups = {}\n",
    "\n",
    "# Loop through all unique categories\n",
    "for i in df['region'].unique():\n",
    "    # Get series for group and rename\n",
    "    data = df.loc[df['region']==i,'charges'].copy()\n",
    "    # Save into the dictionary\n",
    "    groups[i] = data\n",
    "groups.keys()"
   ]
  },
  {
   "cell_type": "markdown",
   "id": "16df43fc-7250-4f90-9e98-2899739e6431",
   "metadata": {},
   "source": [
    "### Testing for Outliers"
   ]
  },
  {
   "cell_type": "code",
   "execution_count": 22,
   "id": "9553a11f-df13-4855-9fc0-8301e544028f",
   "metadata": {},
   "outputs": [],
   "source": [
    "# Create a copy of the original dataframe\n",
    "df_cleaned = df.copy()\n",
    "\n",
    "# Create outliers dictionary\n",
    "outlier_counts = {}"
   ]
  },
  {
   "cell_type": "code",
   "execution_count": 23,
   "id": "e32b7582-c99f-4cf0-9175-caa520ae6dc8",
   "metadata": {},
   "outputs": [
    {
     "name": "stdout",
     "output_type": "stream",
     "text": [
      "Region: southwest, Number of Outliers Removed: 8\n",
      "Region: southeast, Number of Outliers Removed: 2\n",
      "Region: northwest, Number of Outliers Removed: 7\n",
      "Region: northeast, Number of Outliers Removed: 4\n"
     ]
    }
   ],
   "source": [
    "# # Loop through all unique categories\n",
    "for region in df_cleaned['region'].unique():\n",
    "    # Get series for group and rename\n",
    "    data = df_cleaned.loc[df_cleaned['region'] == region, 'charges'].copy()\n",
    "    # Calculate z-scores for the 'charges' column within each region\n",
    "    z_scores = np.abs(stats.zscore(data))\n",
    "    # Define a threshold for identifying outliers\n",
    "    threshold = 3\n",
    "    # Find the indices of outliers\n",
    "    outlier_indices = np.where(z_scores > threshold)\n",
    "    # Remove outliers from the copy of the dataframe\n",
    "    df_cleaned.drop(df_cleaned.index[outlier_indices], inplace=True)\n",
    "    # Save the number of outliers for this region in the dictionary\n",
    "    outlier_counts[region] = len(outlier_indices[0])\n",
    "# DIsplay the number of outliers for each region\n",
    "for region, count in outlier_counts.items():\n",
    "    print(f\"Region: {region}, Number of Outliers Removed: {count}\")"
   ]
  },
  {
   "cell_type": "markdown",
   "id": "7165d9bc-1a21-4d46-8bdc-76114926e300",
   "metadata": {},
   "source": [
    "- Outliers were identified in each region and removed successfully."
   ]
  },
  {
   "cell_type": "markdown",
   "id": "2687ea10-c551-45ae-bcbe-317caaa9f580",
   "metadata": {},
   "source": [
    "### Testing Each Group for Normality"
   ]
  },
  {
   "cell_type": "code",
   "execution_count": 24,
   "id": "9bf86a50-a674-4bed-804e-81f574200985",
   "metadata": {},
   "outputs": [
    {
     "data": {
      "text/html": [
       "<div>\n",
       "<style scoped>\n",
       "    .dataframe tbody tr th:only-of-type {\n",
       "        vertical-align: middle;\n",
       "    }\n",
       "\n",
       "    .dataframe tbody tr th {\n",
       "        vertical-align: top;\n",
       "    }\n",
       "\n",
       "    .dataframe thead th {\n",
       "        text-align: right;\n",
       "    }\n",
       "</style>\n",
       "<table border=\"1\" class=\"dataframe\">\n",
       "  <thead>\n",
       "    <tr style=\"text-align: right;\">\n",
       "      <th></th>\n",
       "      <th>n</th>\n",
       "      <th>p</th>\n",
       "      <th>test stat</th>\n",
       "    </tr>\n",
       "  </thead>\n",
       "  <tbody>\n",
       "    <tr>\n",
       "      <th>southwest</th>\n",
       "      <td>320.0</td>\n",
       "      <td>4.175033e-19</td>\n",
       "      <td>84.639989</td>\n",
       "    </tr>\n",
       "    <tr>\n",
       "      <th>southeast</th>\n",
       "      <td>320.0</td>\n",
       "      <td>4.175033e-19</td>\n",
       "      <td>84.639989</td>\n",
       "    </tr>\n",
       "    <tr>\n",
       "      <th>northwest</th>\n",
       "      <td>320.0</td>\n",
       "      <td>4.175033e-19</td>\n",
       "      <td>84.639989</td>\n",
       "    </tr>\n",
       "    <tr>\n",
       "      <th>northeast</th>\n",
       "      <td>320.0</td>\n",
       "      <td>4.175033e-19</td>\n",
       "      <td>84.639989</td>\n",
       "    </tr>\n",
       "  </tbody>\n",
       "</table>\n",
       "</div>"
      ],
      "text/plain": [
       "               n             p  test stat\n",
       "southwest  320.0  4.175033e-19  84.639989\n",
       "southeast  320.0  4.175033e-19  84.639989\n",
       "northwest  320.0  4.175033e-19  84.639989\n",
       "northeast  320.0  4.175033e-19  84.639989"
      ]
     },
     "execution_count": 24,
     "metadata": {},
     "output_type": "execute_result"
    }
   ],
   "source": [
    "# Create a dictionary to store the normality test results\n",
    "norm_results = {}\n",
    "\n",
    "# Loop through all unique categories (regions)\n",
    "for region in df_cleaned['region'].unique():\n",
    "    # Check if the group has more than 20 data points (use \"data\" from outliers loop)\n",
    "    if len(data) > 20:\n",
    "        # Perform  normality test\n",
    "        stat, p = stats.normaltest(data)\n",
    "        # Save the p-val, test statistic, and size of the group\n",
    "        norm_results[region] = {'n': len(data),\n",
    "                                'p': p,\n",
    "                                'test stat': stat}\n",
    "# Convert to a dataframe\n",
    "norm_results_df = pd.DataFrame(norm_results).T\n",
    "norm_results_df"
   ]
  },
  {
   "cell_type": "markdown",
   "id": "50393113-d7fe-4f48-bff2-4cc888567a0a",
   "metadata": {},
   "source": [
    "- Since n >= 15, we should ignore the assumption of normality and test the assumption for equal variance."
   ]
  },
  {
   "cell_type": "markdown",
   "id": "a9b5c930-d5e4-477b-bf76-03782a9bb605",
   "metadata": {},
   "source": [
    "### Testing for Equal Variance"
   ]
  },
  {
   "cell_type": "code",
   "execution_count": 25,
   "id": "4123a46f-5425-487f-a3a8-155e5d6e7ebb",
   "metadata": {},
   "outputs": [
    {
     "name": "stdout",
     "output_type": "stream",
     "text": [
      "Levene Test Statistics: 5.082473587906683\n",
      "Levene Test p_value: 0.001680673999281497\n"
     ]
    }
   ],
   "source": [
    "# Create a list to store the 'charges' data for each region\n",
    "data_by_region = []\n",
    "# Loop through all unique regions\n",
    "for region in df_cleaned['region'].unique():\n",
    "    # Get 'charges' data for the current region\n",
    "    data =df_cleaned.loc[df_cleaned['region'] == region, 'charges']\n",
    "    # Append the data to the list\n",
    "    data_by_region.append(data)\n",
    "# Perform the Levene test to compare variences across regions\n",
    "levene_statistics, levene_pvalue = levene(*data_by_region)\n",
    "\n",
    "# Display the Levene test results\n",
    "print(f\"Levene Test Statistics: {levene_statistics}\")\n",
    "print(f\"Levene Test p_value: {levene_pvalue}\")"
   ]
  },
  {
   "cell_type": "code",
   "execution_count": 26,
   "id": "7a36b91b-4c59-4970-aad3-49bf78ead1a7",
   "metadata": {},
   "outputs": [
    {
     "name": "stdout",
     "output_type": "stream",
     "text": [
      "The variances across regions are significantly different.\n"
     ]
    }
   ],
   "source": [
    "# Interpret the results based on the p-value\n",
    "if levene_pvalue < 0.05:\n",
    "    print(\"The variances across regions are significantly different.\")\n",
    "else:\n",
    "    print(\"There is no significant difference in variances across regions.\")"
   ]
  },
  {
   "cell_type": "markdown",
   "id": "31646829-b5e3-4adc-a09c-c4fc7cab16e4",
   "metadata": {},
   "source": [
    "### Non-Parametric Testing - Kruskal-Wallis"
   ]
  },
  {
   "cell_type": "code",
   "execution_count": 27,
   "id": "1362c510-df88-414f-8f0b-e89dd1e8c65e",
   "metadata": {},
   "outputs": [
    {
     "name": "stdout",
     "output_type": "stream",
     "text": [
      "Kruskal-Wallis Test Statistics: 4.41904331310216\n",
      "Kruskal-Wallis Test p-value: 0.2196261124611108\n"
     ]
    }
   ],
   "source": [
    "# Perform the Kruskal-Wallis test to compare distributions across regions\n",
    "kruskal_statistics, kruskal_pvalue = kruskal(*data_by_region)\n",
    "\n",
    "# Display tqhe Kruskal-Wallis test results\n",
    "print(f\"Kruskal-Wallis Test Statistics: {kruskal_statistics}\")\n",
    "print(f\"Kruskal-Wallis Test p-value: {kruskal_pvalue}\")"
   ]
  },
  {
   "cell_type": "code",
   "execution_count": 28,
   "id": "97b2f12d-d21f-4cc4-9dc3-9d6a0020b5c3",
   "metadata": {},
   "outputs": [
    {
     "name": "stdout",
     "output_type": "stream",
     "text": [
      "There are no significant differences in 'charges' across regions.\n"
     ]
    }
   ],
   "source": [
    "# Interpret the results based on the p-value (small p-value indicates significant differences)\n",
    "if kruskal_pvalue < 0.05:\n",
    "    print(\"There are significant differences in 'charges' across regions.\")\n",
    "else:\n",
    "    print(\"There are no significant differences in 'charges' across regions.\")"
   ]
  },
  {
   "cell_type": "markdown",
   "id": "c6353abe-71b4-4a24-a05f-2a3fba0695e1",
   "metadata": {},
   "source": [
    "### Interpret your p-value and reject or fail to reject your null hypothesis.\n",
    "- Since our p-value is greater than 0.05, I fail to reject the null hypothesis. This indicates that there is no significant difference showing that the region affects how much someone pays for insurance."
   ]
  }
 ],
 "metadata": {
  "kernelspec": {
   "display_name": "Python 3 (ipykernel)",
   "language": "python",
   "name": "python3"
  },
  "language_info": {
   "codemirror_mode": {
    "name": "ipython",
    "version": 3
   },
   "file_extension": ".py",
   "mimetype": "text/x-python",
   "name": "python",
   "nbconvert_exporter": "python",
   "pygments_lexer": "ipython3",
   "version": "3.10.10"
  },
  "widgets": {
   "application/vnd.jupyter.widget-state+json": {
    "state": {},
    "version_major": 2,
    "version_minor": 0
   }
  }
 },
 "nbformat": 4,
 "nbformat_minor": 5
}
