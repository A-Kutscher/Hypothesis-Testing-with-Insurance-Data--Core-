{
 "cells": [
  {
   "cell_type": "markdown",
   "id": "2ffae2c6-4917-4455-8c1e-8f22c55fdd78",
   "metadata": {},
   "source": [
    "# Hypothesis Testing with Insurance Data (Core)\r",
    "- Amber Kutscher\n",
    "- Data Enrichment\n"
   ]
  },
  {
   "cell_type": "code",
   "execution_count": 1,
   "id": "5d46dd01-ce04-49b5-9277-d66ed2fab53c",
   "metadata": {},
   "outputs": [],
   "source": [
    "# Imports\n",
    "import numpy as np\n",
    "import pandas as pd\n",
    "import matplotlib.pyplot as plt\n",
    "import seaborn as sns\n",
    "import scipy.stats as stats"
   ]
  },
  {
   "cell_type": "code",
   "execution_count": 2,
   "id": "57b12741-e4d7-4a02-9e64-0d40ed1d480f",
   "metadata": {},
   "outputs": [
    {
     "data": {
      "text/html": [
       "<div>\n",
       "<style scoped>\n",
       "    .dataframe tbody tr th:only-of-type {\n",
       "        vertical-align: middle;\n",
       "    }\n",
       "\n",
       "    .dataframe tbody tr th {\n",
       "        vertical-align: top;\n",
       "    }\n",
       "\n",
       "    .dataframe thead th {\n",
       "        text-align: right;\n",
       "    }\n",
       "</style>\n",
       "<table border=\"1\" class=\"dataframe\">\n",
       "  <thead>\n",
       "    <tr style=\"text-align: right;\">\n",
       "      <th></th>\n",
       "      <th>age</th>\n",
       "      <th>sex</th>\n",
       "      <th>bmi</th>\n",
       "      <th>children</th>\n",
       "      <th>smoker</th>\n",
       "      <th>region</th>\n",
       "      <th>charges</th>\n",
       "    </tr>\n",
       "  </thead>\n",
       "  <tbody>\n",
       "    <tr>\n",
       "      <th>0</th>\n",
       "      <td>19</td>\n",
       "      <td>female</td>\n",
       "      <td>27.900</td>\n",
       "      <td>0</td>\n",
       "      <td>yes</td>\n",
       "      <td>southwest</td>\n",
       "      <td>16884.92400</td>\n",
       "    </tr>\n",
       "    <tr>\n",
       "      <th>1</th>\n",
       "      <td>18</td>\n",
       "      <td>male</td>\n",
       "      <td>33.770</td>\n",
       "      <td>1</td>\n",
       "      <td>no</td>\n",
       "      <td>southeast</td>\n",
       "      <td>1725.55230</td>\n",
       "    </tr>\n",
       "    <tr>\n",
       "      <th>2</th>\n",
       "      <td>28</td>\n",
       "      <td>male</td>\n",
       "      <td>33.000</td>\n",
       "      <td>3</td>\n",
       "      <td>no</td>\n",
       "      <td>southeast</td>\n",
       "      <td>4449.46200</td>\n",
       "    </tr>\n",
       "    <tr>\n",
       "      <th>3</th>\n",
       "      <td>33</td>\n",
       "      <td>male</td>\n",
       "      <td>22.705</td>\n",
       "      <td>0</td>\n",
       "      <td>no</td>\n",
       "      <td>northwest</td>\n",
       "      <td>21984.47061</td>\n",
       "    </tr>\n",
       "    <tr>\n",
       "      <th>4</th>\n",
       "      <td>32</td>\n",
       "      <td>male</td>\n",
       "      <td>28.880</td>\n",
       "      <td>0</td>\n",
       "      <td>no</td>\n",
       "      <td>northwest</td>\n",
       "      <td>3866.85520</td>\n",
       "    </tr>\n",
       "  </tbody>\n",
       "</table>\n",
       "</div>"
      ],
      "text/plain": [
       "   age     sex     bmi  children smoker     region      charges\n",
       "0   19  female  27.900         0    yes  southwest  16884.92400\n",
       "1   18    male  33.770         1     no  southeast   1725.55230\n",
       "2   28    male  33.000         3     no  southeast   4449.46200\n",
       "3   33    male  22.705         0     no  northwest  21984.47061\n",
       "4   32    male  28.880         0     no  northwest   3866.85520"
      ]
     },
     "execution_count": 2,
     "metadata": {},
     "output_type": "execute_result"
    }
   ],
   "source": [
    "# Read in the data\n",
    "url = 'https://docs.google.com/spreadsheets/d/e/2PACX-1vQBN8DPW2rdiRrY34eEM53HAzakNGSRrw4ogI-j8HyCUrbqTB_z4CeIn2IvjLF-w_6sOe5pIlypJGAA/pub?output=csv'\n",
    "df = pd.read_csv(url)\n",
    "df.head()"
   ]
  },
  {
   "cell_type": "markdown",
   "id": "abc808e9-aaa4-466a-9fcd-00768c116413",
   "metadata": {},
   "source": [
    "## Q1. Do smokers have higher insurance charges than non-smokers?\n"
   ]
  },
  {
   "cell_type": "markdown",
   "id": "6b81330a-516a-405a-9b9a-3a84e91c062d",
   "metadata": {},
   "source": [
    "- Null Hypothesis: There is no significant difference between the insurance charges of smokers and non-smokers.\n",
    "- Alternative Hypothesis: There is a significant difference between the insurance charges of smokers and non-smokers."
   ]
  },
  {
   "cell_type": "code",
   "execution_count": 22,
   "id": "26009413-3774-4669-b0f3-e874b1796bab",
   "metadata": {},
   "outputs": [
    {
     "name": "stdout",
     "output_type": "stream",
     "text": [
      "For smokers (n=11): Mean=35439.40\n",
      "For non-smokers (n=39): Mean=7309.48\n"
     ]
    }
   ],
   "source": [
    "# Create sample data for testing\n",
    "sample = df.sample(n=50, random_state=42)\n",
    "smoker_charges = sample.loc[sample['smoker'] == 'yes', \"charges\"]\n",
    "non_smoker_charges = sample.loc[sample['smoker'] == 'no', \"charges\"]\n",
    "\n",
    "print(f\"For smokers (n={len(smoker_charges)}): Mean={np.mean(smoker_charges):.2f}\")\n",
    "print(f\"For non-smokers (n={len(non_smoker_charges)}): Mean={np.mean(non_smoker_charges):.2f}\")"
   ]
  },
  {
   "cell_type": "code",
   "execution_count": 5,
   "id": "ccf1fb61-3a46-4b3f-8eca-606dae649888",
   "metadata": {},
   "outputs": [
    {
     "data": {
      "text/plain": [
       "0"
      ]
     },
     "execution_count": 5,
     "metadata": {},
     "output_type": "execute_result"
    }
   ],
   "source": [
    "# Check for ourliers with smoker status\n",
    "zscores_s = stats.zscore(smoker_charges)\n",
    "outliers_s = abs(zscores_s)>3\n",
    "np.sum(outliers_s)"
   ]
  },
  {
   "cell_type": "code",
   "execution_count": 6,
   "id": "6f2d700e-d000-48f8-afc7-d6e2384c9876",
   "metadata": {},
   "outputs": [
    {
     "data": {
      "text/plain": [
       "0"
      ]
     },
     "execution_count": 6,
     "metadata": {},
     "output_type": "execute_result"
    }
   ],
   "source": [
    "# Check for outliers with non-smoker status\n",
    "zscores_ns = stats.zscore(non_smoker_charges)\n",
    "outliers_ns = abs(zscores_ns)>3\n",
    "np.sum(outliers_ns)"
   ]
  },
  {
   "cell_type": "code",
   "execution_count": 7,
   "id": "7fefb0ab-964f-49b4-b77a-833a3aaa012b",
   "metadata": {},
   "outputs": [
    {
     "name": "stderr",
     "output_type": "stream",
     "text": [
      "C:\\Users\\amber\\anaconda3\\envs\\dojo-env\\lib\\site-packages\\scipy\\stats\\_stats_py.py:1736: UserWarning: kurtosistest only valid for n>=20 ... continuing anyway, n=11\n",
      "  warnings.warn(\"kurtosistest only valid for n>=20 ... continuing \"\n"
     ]
    },
    {
     "data": {
      "text/plain": [
       "NormaltestResult(statistic=2.209358578032982, pvalue=0.331317122245031)"
      ]
     },
     "execution_count": 7,
     "metadata": {},
     "output_type": "execute_result"
    }
   ],
   "source": [
    "# Normal test smokers\n",
    "result_s = stats.normaltest(smoker_charges)\n",
    "result_s"
   ]
  },
  {
   "cell_type": "code",
   "execution_count": 8,
   "id": "a11e2647-b53b-40fb-84ff-25d266c623b5",
   "metadata": {},
   "outputs": [
    {
     "data": {
      "text/plain": [
       "NormaltestResult(statistic=2.6262187199374125, pvalue=0.26898239167805005)"
      ]
     },
     "execution_count": 8,
     "metadata": {},
     "output_type": "execute_result"
    }
   ],
   "source": [
    "# Normal test non-smokers\n",
    "result_ns = stats.normaltest(non_smoker_charges)\n",
    "result_ns"
   ]
  },
  {
   "cell_type": "code",
   "execution_count": 9,
   "id": "4156838f-7953-4655-8586-607d8e88cf69",
   "metadata": {},
   "outputs": [
    {
     "data": {
      "text/plain": [
       "LeveneResult(statistic=18.397400827816167, pvalue=8.621214599569032e-05)"
      ]
     },
     "execution_count": 9,
     "metadata": {},
     "output_type": "execute_result"
    }
   ],
   "source": [
    "# Calculate overall results with levene\n",
    "result = stats.levene(smoker_charges, non_smoker_charges)\n",
    "result"
   ]
  },
  {
   "cell_type": "code",
   "execution_count": 10,
   "id": "6e11b8c9-7d8a-4891-a631-d7d147eff983",
   "metadata": {},
   "outputs": [
    {
     "data": {
      "text/plain": [
       "Ttest_indResult(statistic=13.237119558105961, pvalue=1.2286151200596125e-17)"
      ]
     },
     "execution_count": 10,
     "metadata": {},
     "output_type": "execute_result"
    }
   ],
   "source": [
    "# Final t-test, after confirming we meet the assumptions\n",
    "result = stats.ttest_ind(smoker_charges, non_smoker_charges)\n",
    "result"
   ]
  },
  {
   "cell_type": "code",
   "execution_count": 11,
   "id": "8584d3da-15fa-49cb-a2a6-fb44c11f9154",
   "metadata": {},
   "outputs": [
    {
     "name": "stdout",
     "output_type": "stream",
     "text": [
      "p-value=0.0000000000\n",
      "Significant: True\n"
     ]
    }
   ],
   "source": [
    "# Is our result significant?\n",
    "print(f\"p-value={result.pvalue:.10f}\")\n",
    "print(f\"Significant: {result.pvalue <.05}\")"
   ]
  },
  {
   "cell_type": "code",
   "execution_count": 13,
   "id": "1488eb3a-47a5-4036-b007-6be1f0257bd9",
   "metadata": {},
   "outputs": [
    {
     "data": {
      "image/png": "[encoded data removed]",
      "text/plain": [
       "<Figure size 800x600 with 1 Axes>"
      ]
     },
     "metadata": {},
     "output_type": "display_data"
    }
   ],
   "source": [
    "# Visualize the data\n",
    "plt.figure(figsize=(8, 6))\n",
    "sns.histplot(data=sample, x='charges', hue='smoker', kde=True)\n",
    "plt.xlabel('Insurance Charges')\n",
    "plt.ylabel('Density')\n",
    "plt.title('Distribution of Insurance Charges by Smoking Status')\n",
    "plt.show()"
   ]
  },
  {
   "cell_type": "markdown",
   "id": "b8f17f7f-6f20-439b-ba19-4122be2f6e56",
   "metadata": {},
   "source": [
    "### Interpret your p-value and reject or fail to reject your null hypothesis.\n",
    "- Since our p-value is less than 0.05, I reject the null hypothesis. This indicates that there is a significant difference between insurance charges of smokers vs. non-smokers.\r\n"
   ]
  },
  {
   "cell_type": "markdown",
   "id": "6dbc2745-eac1-4ac0-bedc-7d5c1a9a5fed",
   "metadata": {},
   "source": [
    "## Q2. Are men more likely to smoke than women?\r\n"
   ]
  },
  {
   "cell_type": "markdown",
   "id": "bca6a1c8-dd38-4669-b44b-55c62f7cd23a",
   "metadata": {},
   "source": [
    "- Null Hypothesis: There is no significant difference showing that men are more likely to smoke than women.\n",
    "- Alternative Hypothesis: There is a significant difference showing that men are more likely to smoke than women."
   ]
  },
  {
   "cell_type": "code",
   "execution_count": 16,
   "id": "e87f6612-e2ef-4edf-9a2a-40381d0be466",
   "metadata": {},
   "outputs": [
    {
     "data": {
      "image/png": "[encoded data removed]",
      "text/plain": [
       "<Figure size 640x480 with 1 Axes>"
      ]
     },
     "metadata": {},
     "output_type": "display_data"
    }
   ],
   "source": [
    "# Start by visualizing the data\n",
    "ax = sns.countplot(data=df, x='sex', hue='smoker')\n",
    "ax.set_title(\"Number of Smokers by Sex\");"
   ]
  },
  {
   "cell_type": "code",
   "execution_count": 17,
   "id": "81e82936-4fed-43bf-9bc9-f4004b57d681",
   "metadata": {},
   "outputs": [
    {
     "data": {
      "text/html": [
       "<div>\n",
       "<style scoped>\n",
       "    .dataframe tbody tr th:only-of-type {\n",
       "        vertical-align: middle;\n",
       "    }\n",
       "\n",
       "    .dataframe tbody tr th {\n",
       "        vertical-align: top;\n",
       "    }\n",
       "\n",
       "    .dataframe thead th {\n",
       "        text-align: right;\n",
       "    }\n",
       "</style>\n",
       "<table border=\"1\" class=\"dataframe\">\n",
       "  <thead>\n",
       "    <tr style=\"text-align: right;\">\n",
       "      <th>smoker</th>\n",
       "      <th>no</th>\n",
       "      <th>yes</th>\n",
       "    </tr>\n",
       "    <tr>\n",
       "      <th>sex</th>\n",
       "      <th></th>\n",
       "      <th></th>\n",
       "    </tr>\n",
       "  </thead>\n",
       "  <tbody>\n",
       "    <tr>\n",
       "      <th>female</th>\n",
       "      <td>547</td>\n",
       "      <td>115</td>\n",
       "    </tr>\n",
       "    <tr>\n",
       "      <th>male</th>\n",
       "      <td>517</td>\n",
       "      <td>159</td>\n",
       "    </tr>\n",
       "  </tbody>\n",
       "</table>\n",
       "</div>"
      ],
      "text/plain": [
       "smoker   no  yes\n",
       "sex             \n",
       "female  547  115\n",
       "male    517  159"
      ]
     },
     "execution_count": 17,
     "metadata": {},
     "output_type": "execute_result"
    }
   ],
   "source": [
    "# Calculate the contingency table with pd.cross-tab\n",
    "table = pd.crosstab(df['sex'], df['smoker'])\n",
    "table"
   ]
  },
  {
   "cell_type": "code",
   "execution_count": 21,
   "id": "25fef0f1-46e0-4bbc-a683-f7074dfe9abd",
   "metadata": {},
   "outputs": [],
   "source": [
    "# Using Chi-Square test, run the test and save the output\n",
    "result = stats.chi2_contingency(table)\n",
    "chi2, p, deg_free, expected_vals = result"
   ]
  },
  {
   "cell_type": "code",
   "execution_count": 20,
   "id": "148a2133-d155-4d07-b364-7dc4bd2f9658",
   "metadata": {},
   "outputs": [
    {
     "name": "stdout",
     "output_type": "stream",
     "text": [
      "0.006548143503580696\n"
     ]
    },
    {
     "data": {
      "text/plain": [
       "True"
      ]
     },
     "execution_count": 20,
     "metadata": {},
     "output_type": "execute_result"
    }
   ],
   "source": [
    "# What was our p-value?\n",
    "print(p)\n",
    "p<.05"
   ]
  },
  {
   "cell_type": "markdown",
   "id": "86cef54c-6097-4a30-a5ee-5041ba6c3bae",
   "metadata": {},
   "source": [
    "### Interpret your p-value and reject or fail to reject your null hypothesis.\n",
    "- Since our p-value is less than 0.05, I reject the null hypothesis. This indicates that men are more likely to smoke than women."
   ]
  },
  {
   "cell_type": "markdown",
   "id": "9e2097fe-cb5f-4cbf-9ee7-29aca7c6cc03",
   "metadata": {},
   "source": [
    "## Q3. Do different regions have different charges, on average?\r\n",
    "\r\n"
   ]
  },
  {
   "cell_type": "markdown",
   "id": "2a6fe5c7-7c61-46fa-83b4-21afda3426b2",
   "metadata": {},
   "source": [
    "- Null Hypothesis: There is no significant difference showing that the region affects how much someone pays for insurance.\n",
    "- Alternative Hypothesis: There is a significant difference showing that the region affects how much someone pays for insurance."
   ]
  },
  {
   "cell_type": "code",
   "execution_count": 23,
   "id": "f254f9fc-44a2-43ec-b061-8bef65373891",
   "metadata": {},
   "outputs": [
    {
     "data": {
      "image/png": "[encoded data removed]",
      "text/plain": [
       "<Figure size 640x480 with 1 Axes>"
      ]
     },
     "metadata": {},
     "output_type": "display_data"
    }
   ],
   "source": [
    "# Start by visualizing the data\n",
    "sns.barplot(data=df, x='region', y='charges');"
   ]
  },
  {
   "cell_type": "code",
   "execution_count": 24,
   "id": "00fea9e3-6972-4854-9b14-e125c3a3ec54",
   "metadata": {},
   "outputs": [
    {
     "data": {
      "text/plain": [
       "dict_keys(['southwest', 'southeast', 'northwest', 'northeast'])"
      ]
     },
     "execution_count": 24,
     "metadata": {},
     "output_type": "execute_result"
    }
   ],
   "source": [
    "# Create groups dictionary\n",
    "groups = {}\n",
    "# Loop through all unique categories\n",
    "for i in df['region'].unique():\n",
    "    # Get series for group and rename\n",
    "    data = df.loc[df['region']==i,'charges'].copy()\n",
    "    # Save into the dictionary\n",
    "    groups[i] = data\n",
    "groups.keys()"
   ]
  },
  {
   "cell_type": "code",
   "execution_count": 25,
   "id": "9bf86a50-a674-4bed-804e-81f574200985",
   "metadata": {},
   "outputs": [
    {
     "data": {
      "text/html": [
       "<div>\n",
       "<style scoped>\n",
       "    .dataframe tbody tr th:only-of-type {\n",
       "        vertical-align: middle;\n",
       "    }\n",
       "\n",
       "    .dataframe tbody tr th {\n",
       "        vertical-align: top;\n",
       "    }\n",
       "\n",
       "    .dataframe thead th {\n",
       "        text-align: right;\n",
       "    }\n",
       "</style>\n",
       "<table border=\"1\" class=\"dataframe\">\n",
       "  <thead>\n",
       "    <tr style=\"text-align: right;\">\n",
       "      <th></th>\n",
       "      <th>n</th>\n",
       "      <th>p</th>\n",
       "      <th>test stat</th>\n",
       "    </tr>\n",
       "  </thead>\n",
       "  <tbody>\n",
       "    <tr>\n",
       "      <th>southwest</th>\n",
       "      <td>325.0</td>\n",
       "      <td>6.125298e-23</td>\n",
       "      <td>102.294059</td>\n",
       "    </tr>\n",
       "    <tr>\n",
       "      <th>southeast</th>\n",
       "      <td>364.0</td>\n",
       "      <td>4.953297e-15</td>\n",
       "      <td>65.877446</td>\n",
       "    </tr>\n",
       "    <tr>\n",
       "      <th>northwest</th>\n",
       "      <td>325.0</td>\n",
       "      <td>5.184209e-24</td>\n",
       "      <td>107.232850</td>\n",
       "    </tr>\n",
       "    <tr>\n",
       "      <th>northeast</th>\n",
       "      <td>324.0</td>\n",
       "      <td>1.455431e-19</td>\n",
       "      <td>86.747629</td>\n",
       "    </tr>\n",
       "  </tbody>\n",
       "</table>\n",
       "</div>"
      ],
      "text/plain": [
       "               n             p   test stat\n",
       "southwest  325.0  6.125298e-23  102.294059\n",
       "southeast  364.0  4.953297e-15   65.877446\n",
       "northwest  325.0  5.184209e-24  107.232850\n",
       "northeast  324.0  1.455431e-19   86.747629"
      ]
     },
     "execution_count": 25,
     "metadata": {},
     "output_type": "execute_result"
    }
   ],
   "source": [
    "# Running normal test on each group and confirming there are >20 in each group\n",
    "norm_results = {}\n",
    "for i, data in groups.items():\n",
    "    stat, p = stats.normaltest(data)\n",
    "    # Save the p-val, test statistic, and the size of the group\n",
    "    norm_results[i] = {'n': len(data),\n",
    "                             'p':p,\n",
    "                             'test stat':stat,}\n",
    "## convert to a dataframe\n",
    "norm_results_df = pd.DataFrame(norm_results).T\n",
    "norm_results_df"
   ]
  },
  {
   "cell_type": "code",
   "execution_count": 26,
   "id": "e7f5941c-df7a-4bbe-938f-0af2cc34c5ce",
   "metadata": {},
   "outputs": [
    {
     "data": {
      "text/html": [
       "<div>\n",
       "<style scoped>\n",
       "    .dataframe tbody tr th:only-of-type {\n",
       "        vertical-align: middle;\n",
       "    }\n",
       "\n",
       "    .dataframe tbody tr th {\n",
       "        vertical-align: top;\n",
       "    }\n",
       "\n",
       "    .dataframe thead th {\n",
       "        text-align: right;\n",
       "    }\n",
       "</style>\n",
       "<table border=\"1\" class=\"dataframe\">\n",
       "  <thead>\n",
       "    <tr style=\"text-align: right;\">\n",
       "      <th></th>\n",
       "      <th>n</th>\n",
       "      <th>p</th>\n",
       "      <th>test stat</th>\n",
       "      <th>sig</th>\n",
       "    </tr>\n",
       "  </thead>\n",
       "  <tbody>\n",
       "    <tr>\n",
       "      <th>southwest</th>\n",
       "      <td>325.0</td>\n",
       "      <td>6.125298e-23</td>\n",
       "      <td>102.294059</td>\n",
       "      <td>True</td>\n",
       "    </tr>\n",
       "    <tr>\n",
       "      <th>southeast</th>\n",
       "      <td>364.0</td>\n",
       "      <td>4.953297e-15</td>\n",
       "      <td>65.877446</td>\n",
       "      <td>True</td>\n",
       "    </tr>\n",
       "    <tr>\n",
       "      <th>northwest</th>\n",
       "      <td>325.0</td>\n",
       "      <td>5.184209e-24</td>\n",
       "      <td>107.232850</td>\n",
       "      <td>True</td>\n",
       "    </tr>\n",
       "    <tr>\n",
       "      <th>northeast</th>\n",
       "      <td>324.0</td>\n",
       "      <td>1.455431e-19</td>\n",
       "      <td>86.747629</td>\n",
       "      <td>True</td>\n",
       "    </tr>\n",
       "  </tbody>\n",
       "</table>\n",
       "</div>"
      ],
      "text/plain": [
       "               n             p   test stat   sig\n",
       "southwest  325.0  6.125298e-23  102.294059  True\n",
       "southeast  364.0  4.953297e-15   65.877446  True\n",
       "northwest  325.0  5.184209e-24  107.232850  True\n",
       "northeast  324.0  1.455431e-19   86.747629  True"
      ]
     },
     "execution_count": 26,
     "metadata": {},
     "output_type": "execute_result"
    }
   ],
   "source": [
    "# Checking sig with pandas \n",
    "norm_results_df['sig'] = norm_results_df['p'] < .05 \n",
    "norm_results_df"
   ]
  },
  {
   "cell_type": "code",
   "execution_count": 27,
   "id": "7ac7d70d-6dde-47a7-b69f-684c92877146",
   "metadata": {},
   "outputs": [],
   "source": [
    "from statsmodels.stats.multicomp import pairwise_tukeyhsd\n",
    "# Save the values as charges and the labels to the region\n",
    "values = df['charges']\n",
    "labels = df['region']"
   ]
  },
  {
   "cell_type": "code",
   "execution_count": 28,
   "id": "edf64321-8c7d-48e3-8d3b-ad87e7811785",
   "metadata": {},
   "outputs": [
    {
     "data": {
      "text/html": [
       "<table class=\"simpletable\">\n",
       "<caption>Multiple Comparison of Means - Tukey HSD, FWER=0.05</caption>\n",
       "<tr>\n",
       "   <th>group1</th>    <th>group2</th>    <th>meandiff</th>   <th>p-adj</th>    <th>lower</th>     <th>upper</th>   <th>reject</th>\n",
       "</tr>\n",
       "<tr>\n",
       "  <td>northeast</td> <td>northwest</td>  <td>-988.8091</td> <td>0.7245</td> <td>-3428.9343</td> <td>1451.3161</td>  <td>False</td>\n",
       "</tr>\n",
       "<tr>\n",
       "  <td>northeast</td> <td>southeast</td>  <td>1329.0269</td> <td>0.4745</td> <td>-1044.9417</td> <td>3702.9955</td>  <td>False</td>\n",
       "</tr>\n",
       "<tr>\n",
       "  <td>northeast</td> <td>southwest</td> <td>-1059.4471</td> <td>0.6792</td> <td>-3499.5723</td> <td>1380.6781</td>  <td>False</td>\n",
       "</tr>\n",
       "<tr>\n",
       "  <td>northwest</td> <td>southeast</td>  <td>2317.8361</td> <td>0.0583</td>  <td>-54.1994</td>  <td>4689.8716</td>  <td>False</td>\n",
       "</tr>\n",
       "<tr>\n",
       "  <td>northwest</td> <td>southwest</td>   <td>-70.638</td>  <td>0.9999</td> <td>-2508.8826</td> <td>2367.6066</td>  <td>False</td>\n",
       "</tr>\n",
       "<tr>\n",
       "  <td>southeast</td> <td>southwest</td> <td>-2388.4741</td> <td>0.0477</td> <td>-4760.5096</td> <td>-16.4386</td>   <td>True</td> \n",
       "</tr>\n",
       "</table>"
      ],
      "text/latex": [
       "\\begin{center}\n",
       "\\begin{tabular}{ccccccc}\n",
       "\\toprule\n",
       "\\textbf{group1} & \\textbf{group2} & \\textbf{meandiff} & \\textbf{p-adj} & \\textbf{lower} & \\textbf{upper} & \\textbf{reject}  \\\\\n",
       "\\midrule\n",
       "   northeast    &    northwest    &     -988.8091     &     0.7245     &   -3428.9343   &   1451.3161    &      False       \\\\\n",
       "   northeast    &    southeast    &     1329.0269     &     0.4745     &   -1044.9417   &   3702.9955    &      False       \\\\\n",
       "   northeast    &    southwest    &     -1059.4471    &     0.6792     &   -3499.5723   &   1380.6781    &      False       \\\\\n",
       "   northwest    &    southeast    &     2317.8361     &     0.0583     &    -54.1994    &   4689.8716    &      False       \\\\\n",
       "   northwest    &    southwest    &      -70.638      &     0.9999     &   -2508.8826   &   2367.6066    &      False       \\\\\n",
       "   southeast    &    southwest    &     -2388.4741    &     0.0477     &   -4760.5096   &    -16.4386    &       True       \\\\\n",
       "\\bottomrule\n",
       "\\end{tabular}\n",
       "%\\caption{Multiple Comparison of Means - Tukey HSD, FWER=0.05}\n",
       "\\end{center}"
      ],
      "text/plain": [
       "<class 'statsmodels.iolib.table.SimpleTable'>"
      ]
     },
     "execution_count": 28,
     "metadata": {},
     "output_type": "execute_result"
    }
   ],
   "source": [
    "# Perform tukey's multiple comparison test and display the summary\n",
    "tukeys_results = pairwise_tukeyhsd(values,labels)\n",
    "tukeys_results.summary()"
   ]
  },
  {
   "cell_type": "markdown",
   "id": "c6353abe-71b4-4a24-a05f-2a3fba0695e1",
   "metadata": {},
   "source": [
    "### Interpret your p-value and reject or fail to reject your null hypothesis.\n",
    "- Since our p-value is less than 0.05, I reject the null hypothesis. This indicates that there is a significant difference in average charges by region."
   ]
  }
 ],
 "metadata": {
  "kernelspec": {
   "display_name": "Python 3 (ipykernel)",
   "language": "python",
   "name": "python3"
  },
  "language_info": {
   "codemirror_mode": {
    "name": "ipython",
    "version": 3
   },
   "file_extension": ".py",
   "mimetype": "text/x-python",
   "name": "python",
   "nbconvert_exporter": "python",
   "pygments_lexer": "ipython3",
   "version": "3.10.10"
  },
  "widgets": {
   "application/vnd.jupyter.widget-state+json": {
    "state": {},
    "version_major": 2,
    "version_minor": 0
   }
  }
 },
 "nbformat": 4,
 "nbformat_minor": 5
}
